{
 "cells": [
  {
   "cell_type": "code",
   "execution_count": 1,
   "metadata": {
    "pycharm": {
     "is_executing": false
    }
   },
   "outputs": [],
   "source": [
    "import pandas as pd\n",
    "import numpy as np\n",
    "from scipy import stats\n",
    "import seaborn as sns"
   ]
  },
  {
   "cell_type": "markdown",
   "metadata": {},
   "source": [
    "# Question 1"
   ]
  },
  {
   "cell_type": "code",
   "execution_count": 2,
   "metadata": {
    "pycharm": {
     "is_executing": false
    }
   },
   "outputs": [],
   "source": [
    "# Read dataset\n",
    "election_data = pd.read_csv(\"election_train.csv\")\n",
    "demographic_data = pd.read_csv(\"demographics_train.csv\")\n",
    "election_data[\"Votes\"] = election_data[\"Votes\"].fillna(0) #Fill in the NaN values in the Votes column with 0's"
   ]
  },
  {
   "cell_type": "code",
   "execution_count": 3,
   "metadata": {
    "pycharm": {
     "is_executing": false
    }
   },
   "outputs": [
    {
     "data": {
      "text/plain": [
       "(1205, 6)"
      ]
     },
     "execution_count": 3,
     "metadata": {},
     "output_type": "execute_result"
    }
   ],
   "source": [
    "# Reshape (pivot) dataset A from long format to wide format\n",
    "election_data_wide = pd.pivot_table(election_data, values = 'Votes', index = ['Year','State', 'County', 'Office'], columns = 'Party').reset_index()\n",
    "#display(election_data_wide.to_string())\n",
    "election_data_wide.shape"
   ]
  },
  {
   "cell_type": "markdown",
   "metadata": {},
   "source": [
    "# Question 2"
   ]
  },
  {
   "cell_type": "code",
   "execution_count": 4,
   "metadata": {
    "pycharm": {
     "is_executing": false
    }
   },
   "outputs": [],
   "source": [
    "# United States of America Python Dictionary to translate States,\n",
    "# Districts & Territories to Two-Letter codes and vice versa.\n",
    "#\n",
    "# https://gist.github.com/rogerallen/1583593\n",
    "\n",
    "def f(x):\n",
    "    return {\n",
    "        'Alabama': 'AL',\n",
    "        'Alaska': 'AK',\n",
    "        'Arizona': 'AZ',\n",
    "        'Arkansas': 'AR',\n",
    "        'California': 'CA',\n",
    "        'Colorado': 'CO',\n",
    "        'Connecticut': 'CT',\n",
    "        'Delaware': 'DE',\n",
    "        'District of Columbia': 'DC',\n",
    "        'Florida': 'FL',\n",
    "        'Georgia': 'GA',\n",
    "        'Hawaii': 'HI',\n",
    "        'Idaho': 'ID',\n",
    "        'Illinois': 'IL',\n",
    "        'Indiana': 'IN',\n",
    "        'Iowa': 'IA',\n",
    "        'Kansas': 'KS',\n",
    "        'Kentucky': 'KY',\n",
    "        'Louisiana': 'LA',\n",
    "        'Maine': 'ME',\n",
    "        'Maryland': 'MD',\n",
    "        'Massachusetts': 'MA',\n",
    "        'Michigan': 'MI',\n",
    "        'Minnesota': 'MN',\n",
    "        'Mississippi': 'MS',\n",
    "        'Missouri': 'MO',\n",
    "        'Montana': 'MT',\n",
    "        'Nebraska': 'NE',\n",
    "        'Nevada': 'NV',\n",
    "        'New Hampshire': 'NH',\n",
    "        'New Jersey': 'NJ',\n",
    "        'New Mexico': 'NM',\n",
    "        'New York': 'NY',\n",
    "        'North Carolina': 'NC',\n",
    "        'North Dakota': 'ND',\n",
    "        'Northern Mariana Islands':'MP',\n",
    "        'Ohio': 'OH',\n",
    "        'Oklahoma': 'OK',\n",
    "        'Oregon': 'OR',\n",
    "        'Palau': 'PW',\n",
    "        'Pennsylvania': 'PA',\n",
    "        'Puerto Rico': 'PR',\n",
    "        'Rhode Island': 'RI',\n",
    "        'South Carolina': 'SC',\n",
    "        'South Dakota': 'SD',\n",
    "        'Tennessee': 'TN',\n",
    "        'Texas': 'TX',\n",
    "        'Utah': 'UT',\n",
    "        'Vermont': 'VT',\n",
    "        'Virgin Islands': 'VI',\n",
    "        'Virginia': 'VA',\n",
    "        'Washington': 'WA',\n",
    "        'West Virginia': 'WV',\n",
    "        'Wisconsin': 'WI',\n",
    "        'Wyoming': 'WY'\n",
    "    }[x]"
   ]
  },
  {
   "cell_type": "code",
   "execution_count": 5,
   "metadata": {
    "pycharm": {
     "is_executing": false
    }
   },
   "outputs": [],
   "source": [
    "def g(x):\n",
    "    x = x.lower()\n",
    "    if \"city\" in x:\n",
    "        return x\n",
    "    else:\n",
    "        return x + \" county\"\n",
    "    \n",
    "def h(x): # in election_data only james city has county appended so remove\n",
    "    if \"james city\" in x:\n",
    "        return \"james city\"\n",
    "    else:\n",
    "        return x\n",
    "    \n",
    "election_data_wide['County'] = election_data_wide['County'].apply(lambda x: x.lower()) #lowercase everything\n",
    "election_data_wide['County'] = election_data_wide['County'].apply(lambda x: h(x)) #address datum inconsistency\n",
    "demographic_data['County'] = demographic_data['County'].apply(lambda x: g(x)) # address county name inconsistency\n",
    "demographic_data['State'] = demographic_data['State'].apply(lambda x: f(x)) # address state name inconsistency\n",
    "#print(demographic_data.to_string())"
   ]
  },
  {
   "cell_type": "code",
   "execution_count": 6,
   "metadata": {
    "pycharm": {
     "is_executing": false
    }
   },
   "outputs": [
    {
     "data": {
      "text/plain": [
       "(1200, 21)"
      ]
     },
     "execution_count": 6,
     "metadata": {},
     "output_type": "execute_result"
    }
   ],
   "source": [
    "#to merge you will need to get rid of \"county\" part of string (not column), \n",
    "# and maybe convert full names to abreviations or visa-versa\n",
    "# Merge dataset D1 and dataset D2\n",
    "merged_data = pd.merge(election_data_wide,demographic_data,how='inner')\n",
    "merged_data.shape\n",
    "#display(merged_data.to_string())"
   ]
  },
  {
   "cell_type": "markdown",
   "metadata": {},
   "source": [
    "# Question 3"
   ]
  },
  {
   "cell_type": "code",
   "execution_count": 7,
   "metadata": {
    "pycharm": {
     "is_executing": false
    }
   },
   "outputs": [
    {
     "name": "stdout",
     "output_type": "stream",
     "text": [
      "<class 'pandas.core.frame.DataFrame'>\n",
      "Int64Index: 1200 entries, 0 to 1199\n",
      "Data columns (total 21 columns):\n",
      "Year                                     1200 non-null int64\n",
      "State                                    1200 non-null object\n",
      "County                                   1200 non-null object\n",
      "Office                                   1200 non-null object\n",
      "Democratic                               1200 non-null float64\n",
      "Republican                               1200 non-null float64\n",
      "FIPS                                     1200 non-null int64\n",
      "Total Population                         1200 non-null int64\n",
      "Citizen Voting-Age Population            1200 non-null int64\n",
      "Percent White, not Hispanic or Latino    1200 non-null float64\n",
      "Percent Black, not Hispanic or Latino    1200 non-null float64\n",
      "Percent Hispanic or Latino               1200 non-null float64\n",
      "Percent Foreign Born                     1200 non-null float64\n",
      "Percent Female                           1200 non-null float64\n",
      "Percent Age 29 and Under                 1200 non-null float64\n",
      "Percent Age 65 and Older                 1200 non-null float64\n",
      "Median Household Income                  1200 non-null int64\n",
      "Percent Unemployed                       1200 non-null float64\n",
      "Percent Less than High School Degree     1200 non-null float64\n",
      "Percent Less than Bachelor's Degree      1200 non-null float64\n",
      "Percent Rural                            1200 non-null float64\n",
      "dtypes: float64(13), int64(5), object(3)\n",
      "memory usage: 206.2+ KB\n"
     ]
    }
   ],
   "source": [
    "merged_data.info(verbose=True) #provides the info related to types, etc.\n",
    "#21 variables\n",
    "# types: float64(15), int64(3), object(3)\n",
    "# Year seems redundant because the data all refers to 2018, at least for the election. For the demos, no year is specifid\n",
    "# Office seems redundant because they are all from the same \"office,\" US Senator\n",
    "# FIPS seems irrelevant -- it is only used to describe document processing\n",
    "# To deal with this irrelevant data, we could simply remove those colums"
   ]
  },
  {
   "cell_type": "markdown",
   "metadata": {},
   "source": [
    "# Question 4"
   ]
  },
  {
   "cell_type": "code",
   "execution_count": 8,
   "metadata": {
    "pycharm": {
     "is_executing": false
    }
   },
   "outputs": [
    {
     "name": "stdout",
     "output_type": "stream",
     "text": [
      "<class 'pandas.core.frame.DataFrame'>\n",
      "Int64Index: 1200 entries, 0 to 1199\n",
      "Data columns (total 21 columns):\n",
      "Year                                    1200 non-null int64\n",
      "State                                   1200 non-null object\n",
      "County                                  1200 non-null object\n",
      "Office                                  1200 non-null object\n",
      "Democratic                              1200 non-null float64\n",
      "Republican                              1200 non-null float64\n",
      "FIPS                                    1200 non-null int64\n",
      "Total_Population                        1200 non-null int64\n",
      "Citizen_Voting_Age_Population           1200 non-null int64\n",
      "Percent_White_not_Hispanic_or_Latino    1200 non-null float64\n",
      "Percent_Black_not_Hispanic_or_Latino    1200 non-null float64\n",
      "Percent_Hispanic_or_Latino              1200 non-null float64\n",
      "Percent_Foreign_Born                    1200 non-null float64\n",
      "Percent_Female                          1200 non-null float64\n",
      "Percent_Age_29_and_Under                1200 non-null float64\n",
      "Percent_Age_65_and_Older                1200 non-null float64\n",
      "Median_Household_Income                 1200 non-null int64\n",
      "Percent_Unemployed                      1200 non-null float64\n",
      "Percent_Less_than_High_School_Degree    1200 non-null float64\n",
      "Percent_Less_than_Bachelor's_Degree     1200 non-null float64\n",
      "Percent_Rural                           1200 non-null float64\n",
      "dtypes: float64(13), int64(5), object(3)\n",
      "memory usage: 206.2+ KB\n"
     ]
    }
   ],
   "source": [
    "#Fix the column names for later reference\n",
    "merged_data.columns = [c.replace(' ', '_') for c in merged_data.columns]\n",
    "merged_data.columns = [c.replace(',', '') for c in merged_data.columns]\n",
    "merged_data.columns = [c.replace('-', '_') for c in merged_data.columns]\n",
    "merged_data.info(verbose=True)"
   ]
  },
  {
   "cell_type": "code",
   "execution_count": 9,
   "metadata": {
    "pycharm": {
     "is_executing": false
    }
   },
   "outputs": [
    {
     "data": {
      "text/html": [
       "<div>\n",
       "<style scoped>\n",
       "    .dataframe tbody tr th:only-of-type {\n",
       "        vertical-align: middle;\n",
       "    }\n",
       "\n",
       "    .dataframe tbody tr th {\n",
       "        vertical-align: top;\n",
       "    }\n",
       "\n",
       "    .dataframe thead th {\n",
       "        text-align: right;\n",
       "    }\n",
       "</style>\n",
       "<table border=\"1\" class=\"dataframe\">\n",
       "  <thead>\n",
       "    <tr style=\"text-align: right;\">\n",
       "      <th></th>\n",
       "      <th>Year</th>\n",
       "      <th>State</th>\n",
       "      <th>County</th>\n",
       "      <th>Office</th>\n",
       "      <th>Democratic</th>\n",
       "      <th>Republican</th>\n",
       "      <th>FIPS</th>\n",
       "      <th>Total_Population</th>\n",
       "      <th>Percent_White_not_Hispanic_or_Latino</th>\n",
       "      <th>Percent_Black_not_Hispanic_or_Latino</th>\n",
       "      <th>Percent_Hispanic_or_Latino</th>\n",
       "      <th>Percent_Foreign_Born</th>\n",
       "      <th>Percent_Female</th>\n",
       "      <th>Percent_Age_29_and_Under</th>\n",
       "      <th>Percent_Age_65_and_Older</th>\n",
       "      <th>Median_Household_Income</th>\n",
       "      <th>Percent_Unemployed</th>\n",
       "      <th>Percent_Less_than_High_School_Degree</th>\n",
       "      <th>Percent_Less_than_Bachelor's_Degree</th>\n",
       "      <th>Percent_Rural</th>\n",
       "    </tr>\n",
       "  </thead>\n",
       "  <tbody>\n",
       "    <tr>\n",
       "      <td>0</td>\n",
       "      <td>2018</td>\n",
       "      <td>AZ</td>\n",
       "      <td>apache county</td>\n",
       "      <td>US Senator</td>\n",
       "      <td>16298.0</td>\n",
       "      <td>7810.0</td>\n",
       "      <td>4001</td>\n",
       "      <td>72346</td>\n",
       "      <td>18.571863</td>\n",
       "      <td>0.486551</td>\n",
       "      <td>5.947806</td>\n",
       "      <td>1.719515</td>\n",
       "      <td>50.598513</td>\n",
       "      <td>45.854643</td>\n",
       "      <td>13.322091</td>\n",
       "      <td>32460</td>\n",
       "      <td>15.807433</td>\n",
       "      <td>21.758252</td>\n",
       "      <td>88.941063</td>\n",
       "      <td>74.061076</td>\n",
       "    </tr>\n",
       "    <tr>\n",
       "      <td>1</td>\n",
       "      <td>2018</td>\n",
       "      <td>AZ</td>\n",
       "      <td>cochise county</td>\n",
       "      <td>US Senator</td>\n",
       "      <td>17383.0</td>\n",
       "      <td>26929.0</td>\n",
       "      <td>4003</td>\n",
       "      <td>128177</td>\n",
       "      <td>56.299492</td>\n",
       "      <td>3.714395</td>\n",
       "      <td>34.403208</td>\n",
       "      <td>11.458374</td>\n",
       "      <td>49.069646</td>\n",
       "      <td>37.902276</td>\n",
       "      <td>19.756275</td>\n",
       "      <td>45383</td>\n",
       "      <td>8.567108</td>\n",
       "      <td>13.409171</td>\n",
       "      <td>76.837055</td>\n",
       "      <td>36.301067</td>\n",
       "    </tr>\n",
       "    <tr>\n",
       "      <td>2</td>\n",
       "      <td>2018</td>\n",
       "      <td>AZ</td>\n",
       "      <td>coconino county</td>\n",
       "      <td>US Senator</td>\n",
       "      <td>34240.0</td>\n",
       "      <td>19249.0</td>\n",
       "      <td>4005</td>\n",
       "      <td>138064</td>\n",
       "      <td>54.619597</td>\n",
       "      <td>1.342855</td>\n",
       "      <td>13.711033</td>\n",
       "      <td>4.825298</td>\n",
       "      <td>50.581614</td>\n",
       "      <td>48.946141</td>\n",
       "      <td>10.873943</td>\n",
       "      <td>51106</td>\n",
       "      <td>8.238305</td>\n",
       "      <td>11.085381</td>\n",
       "      <td>65.791439</td>\n",
       "      <td>31.466066</td>\n",
       "    </tr>\n",
       "    <tr>\n",
       "      <td>3</td>\n",
       "      <td>2018</td>\n",
       "      <td>AZ</td>\n",
       "      <td>gila county</td>\n",
       "      <td>US Senator</td>\n",
       "      <td>7643.0</td>\n",
       "      <td>12180.0</td>\n",
       "      <td>4007</td>\n",
       "      <td>53179</td>\n",
       "      <td>63.222325</td>\n",
       "      <td>0.552850</td>\n",
       "      <td>18.548675</td>\n",
       "      <td>4.249798</td>\n",
       "      <td>50.296170</td>\n",
       "      <td>32.238290</td>\n",
       "      <td>26.397638</td>\n",
       "      <td>40593</td>\n",
       "      <td>12.129932</td>\n",
       "      <td>15.729958</td>\n",
       "      <td>82.262624</td>\n",
       "      <td>41.062000</td>\n",
       "    </tr>\n",
       "    <tr>\n",
       "      <td>4</td>\n",
       "      <td>2018</td>\n",
       "      <td>AZ</td>\n",
       "      <td>graham county</td>\n",
       "      <td>US Senator</td>\n",
       "      <td>3368.0</td>\n",
       "      <td>6870.0</td>\n",
       "      <td>4009</td>\n",
       "      <td>37529</td>\n",
       "      <td>51.461536</td>\n",
       "      <td>1.811932</td>\n",
       "      <td>32.097844</td>\n",
       "      <td>4.385942</td>\n",
       "      <td>46.313518</td>\n",
       "      <td>46.393456</td>\n",
       "      <td>12.315809</td>\n",
       "      <td>47422</td>\n",
       "      <td>14.424104</td>\n",
       "      <td>14.580797</td>\n",
       "      <td>86.675944</td>\n",
       "      <td>46.437399</td>\n",
       "    </tr>\n",
       "    <tr>\n",
       "      <td>...</td>\n",
       "      <td>...</td>\n",
       "      <td>...</td>\n",
       "      <td>...</td>\n",
       "      <td>...</td>\n",
       "      <td>...</td>\n",
       "      <td>...</td>\n",
       "      <td>...</td>\n",
       "      <td>...</td>\n",
       "      <td>...</td>\n",
       "      <td>...</td>\n",
       "      <td>...</td>\n",
       "      <td>...</td>\n",
       "      <td>...</td>\n",
       "      <td>...</td>\n",
       "      <td>...</td>\n",
       "      <td>...</td>\n",
       "      <td>...</td>\n",
       "      <td>...</td>\n",
       "      <td>...</td>\n",
       "      <td>...</td>\n",
       "    </tr>\n",
       "    <tr>\n",
       "      <td>1195</td>\n",
       "      <td>2018</td>\n",
       "      <td>WY</td>\n",
       "      <td>platte county</td>\n",
       "      <td>US Senator</td>\n",
       "      <td>801.0</td>\n",
       "      <td>2850.0</td>\n",
       "      <td>56031</td>\n",
       "      <td>8740</td>\n",
       "      <td>89.359268</td>\n",
       "      <td>0.057208</td>\n",
       "      <td>7.814645</td>\n",
       "      <td>2.780320</td>\n",
       "      <td>47.711670</td>\n",
       "      <td>32.700229</td>\n",
       "      <td>22.013730</td>\n",
       "      <td>41051</td>\n",
       "      <td>3.901047</td>\n",
       "      <td>9.675889</td>\n",
       "      <td>80.300395</td>\n",
       "      <td>58.647744</td>\n",
       "    </tr>\n",
       "    <tr>\n",
       "      <td>1196</td>\n",
       "      <td>2018</td>\n",
       "      <td>WY</td>\n",
       "      <td>sublette county</td>\n",
       "      <td>US Senator</td>\n",
       "      <td>668.0</td>\n",
       "      <td>2653.0</td>\n",
       "      <td>56035</td>\n",
       "      <td>10032</td>\n",
       "      <td>91.646730</td>\n",
       "      <td>0.000000</td>\n",
       "      <td>7.814992</td>\n",
       "      <td>2.053429</td>\n",
       "      <td>46.949761</td>\n",
       "      <td>36.393541</td>\n",
       "      <td>13.337321</td>\n",
       "      <td>76004</td>\n",
       "      <td>2.786971</td>\n",
       "      <td>4.658830</td>\n",
       "      <td>75.645069</td>\n",
       "      <td>100.000000</td>\n",
       "    </tr>\n",
       "    <tr>\n",
       "      <td>1197</td>\n",
       "      <td>2018</td>\n",
       "      <td>WY</td>\n",
       "      <td>sweetwater county</td>\n",
       "      <td>US Senator</td>\n",
       "      <td>3943.0</td>\n",
       "      <td>8577.0</td>\n",
       "      <td>56037</td>\n",
       "      <td>44812</td>\n",
       "      <td>79.815674</td>\n",
       "      <td>0.865840</td>\n",
       "      <td>15.859591</td>\n",
       "      <td>5.509685</td>\n",
       "      <td>47.824244</td>\n",
       "      <td>44.153352</td>\n",
       "      <td>9.417120</td>\n",
       "      <td>68233</td>\n",
       "      <td>5.072255</td>\n",
       "      <td>9.314606</td>\n",
       "      <td>78.628507</td>\n",
       "      <td>10.916313</td>\n",
       "    </tr>\n",
       "    <tr>\n",
       "      <td>1198</td>\n",
       "      <td>2018</td>\n",
       "      <td>WY</td>\n",
       "      <td>uinta county</td>\n",
       "      <td>US Senator</td>\n",
       "      <td>1371.0</td>\n",
       "      <td>4713.0</td>\n",
       "      <td>56041</td>\n",
       "      <td>20893</td>\n",
       "      <td>87.718375</td>\n",
       "      <td>0.186665</td>\n",
       "      <td>8.959939</td>\n",
       "      <td>3.986981</td>\n",
       "      <td>49.327526</td>\n",
       "      <td>43.205858</td>\n",
       "      <td>10.678218</td>\n",
       "      <td>53323</td>\n",
       "      <td>6.390755</td>\n",
       "      <td>10.361224</td>\n",
       "      <td>81.793082</td>\n",
       "      <td>43.095937</td>\n",
       "    </tr>\n",
       "    <tr>\n",
       "      <td>1199</td>\n",
       "      <td>2018</td>\n",
       "      <td>WY</td>\n",
       "      <td>washakie county</td>\n",
       "      <td>US Senator</td>\n",
       "      <td>588.0</td>\n",
       "      <td>2423.0</td>\n",
       "      <td>56043</td>\n",
       "      <td>8351</td>\n",
       "      <td>82.397318</td>\n",
       "      <td>0.790325</td>\n",
       "      <td>13.962400</td>\n",
       "      <td>3.783978</td>\n",
       "      <td>51.359119</td>\n",
       "      <td>34.774279</td>\n",
       "      <td>19.650341</td>\n",
       "      <td>46212</td>\n",
       "      <td>7.441860</td>\n",
       "      <td>12.577108</td>\n",
       "      <td>78.923920</td>\n",
       "      <td>35.954529</td>\n",
       "    </tr>\n",
       "  </tbody>\n",
       "</table>\n",
       "<p>1195 rows × 20 columns</p>\n",
       "</div>"
      ],
      "text/plain": [
       "      Year State             County      Office  Democratic  Republican  \\\n",
       "0     2018    AZ      apache county  US Senator     16298.0      7810.0   \n",
       "1     2018    AZ     cochise county  US Senator     17383.0     26929.0   \n",
       "2     2018    AZ    coconino county  US Senator     34240.0     19249.0   \n",
       "3     2018    AZ        gila county  US Senator      7643.0     12180.0   \n",
       "4     2018    AZ      graham county  US Senator      3368.0      6870.0   \n",
       "...    ...   ...                ...         ...         ...         ...   \n",
       "1195  2018    WY      platte county  US Senator       801.0      2850.0   \n",
       "1196  2018    WY    sublette county  US Senator       668.0      2653.0   \n",
       "1197  2018    WY  sweetwater county  US Senator      3943.0      8577.0   \n",
       "1198  2018    WY       uinta county  US Senator      1371.0      4713.0   \n",
       "1199  2018    WY    washakie county  US Senator       588.0      2423.0   \n",
       "\n",
       "       FIPS  Total_Population  Percent_White_not_Hispanic_or_Latino  \\\n",
       "0      4001             72346                             18.571863   \n",
       "1      4003            128177                             56.299492   \n",
       "2      4005            138064                             54.619597   \n",
       "3      4007             53179                             63.222325   \n",
       "4      4009             37529                             51.461536   \n",
       "...     ...               ...                                   ...   \n",
       "1195  56031              8740                             89.359268   \n",
       "1196  56035             10032                             91.646730   \n",
       "1197  56037             44812                             79.815674   \n",
       "1198  56041             20893                             87.718375   \n",
       "1199  56043              8351                             82.397318   \n",
       "\n",
       "      Percent_Black_not_Hispanic_or_Latino  Percent_Hispanic_or_Latino  \\\n",
       "0                                 0.486551                    5.947806   \n",
       "1                                 3.714395                   34.403208   \n",
       "2                                 1.342855                   13.711033   \n",
       "3                                 0.552850                   18.548675   \n",
       "4                                 1.811932                   32.097844   \n",
       "...                                    ...                         ...   \n",
       "1195                              0.057208                    7.814645   \n",
       "1196                              0.000000                    7.814992   \n",
       "1197                              0.865840                   15.859591   \n",
       "1198                              0.186665                    8.959939   \n",
       "1199                              0.790325                   13.962400   \n",
       "\n",
       "      Percent_Foreign_Born  Percent_Female  Percent_Age_29_and_Under  \\\n",
       "0                 1.719515       50.598513                 45.854643   \n",
       "1                11.458374       49.069646                 37.902276   \n",
       "2                 4.825298       50.581614                 48.946141   \n",
       "3                 4.249798       50.296170                 32.238290   \n",
       "4                 4.385942       46.313518                 46.393456   \n",
       "...                    ...             ...                       ...   \n",
       "1195              2.780320       47.711670                 32.700229   \n",
       "1196              2.053429       46.949761                 36.393541   \n",
       "1197              5.509685       47.824244                 44.153352   \n",
       "1198              3.986981       49.327526                 43.205858   \n",
       "1199              3.783978       51.359119                 34.774279   \n",
       "\n",
       "      Percent_Age_65_and_Older  Median_Household_Income  Percent_Unemployed  \\\n",
       "0                    13.322091                    32460           15.807433   \n",
       "1                    19.756275                    45383            8.567108   \n",
       "2                    10.873943                    51106            8.238305   \n",
       "3                    26.397638                    40593           12.129932   \n",
       "4                    12.315809                    47422           14.424104   \n",
       "...                        ...                      ...                 ...   \n",
       "1195                 22.013730                    41051            3.901047   \n",
       "1196                 13.337321                    76004            2.786971   \n",
       "1197                  9.417120                    68233            5.072255   \n",
       "1198                 10.678218                    53323            6.390755   \n",
       "1199                 19.650341                    46212            7.441860   \n",
       "\n",
       "      Percent_Less_than_High_School_Degree  \\\n",
       "0                                21.758252   \n",
       "1                                13.409171   \n",
       "2                                11.085381   \n",
       "3                                15.729958   \n",
       "4                                14.580797   \n",
       "...                                    ...   \n",
       "1195                              9.675889   \n",
       "1196                              4.658830   \n",
       "1197                              9.314606   \n",
       "1198                             10.361224   \n",
       "1199                             12.577108   \n",
       "\n",
       "      Percent_Less_than_Bachelor's_Degree  Percent_Rural  \n",
       "0                               88.941063      74.061076  \n",
       "1                               76.837055      36.301067  \n",
       "2                               65.791439      31.466066  \n",
       "3                               82.262624      41.062000  \n",
       "4                               86.675944      46.437399  \n",
       "...                                   ...            ...  \n",
       "1195                            80.300395      58.647744  \n",
       "1196                            75.645069     100.000000  \n",
       "1197                            78.628507      10.916313  \n",
       "1198                            81.793082      43.095937  \n",
       "1199                            78.923920      35.954529  \n",
       "\n",
       "[1195 rows x 20 columns]"
      ]
     },
     "execution_count": 9,
     "metadata": {},
     "output_type": "execute_result"
    }
   ],
   "source": [
    "#Remove the variable Citizen Voting-Age Population because ~50% of values are missing/zero\n",
    "del merged_data['Citizen_Voting_Age_Population']\n",
    "\n",
    "#Remove the observations for each of these variables as they appear\n",
    "#to be missing values, but due to the small number of observations in each  \n",
    "#variable, it makes the most sense to simply remove the observations\n",
    "merged_data[merged_data.Percent_White_not_Hispanic_or_Latino != 0]\n",
    "merged_data[merged_data.Percent_Black_not_Hispanic_or_Latino != 0]\n",
    "merged_data[merged_data.Percent_Foreign_Born != 0]\n",
    "merged_data[merged_data.Percent_Hispanic_or_Latino != 0]\n",
    "\n",
    "\n",
    "\n",
    "#There are other columns that contain 0's for results, but those do not seem to be inaccurate or \n",
    "#\"missing\", so we choose to leave them in the data. E.g. Percent Rural having entries of 0, or \n",
    "#percent black, not Hispanic or Latino\n",
    "\n",
    "#For the Votes variable, we remove the missing observations as well\n"
   ]
  },
  {
   "cell_type": "markdown",
   "metadata": {},
   "source": [
    "# Question 5 and 6"
   ]
  },
  {
   "cell_type": "code",
   "execution_count": 10,
   "metadata": {
    "pycharm": {
     "is_executing": false
    }
   },
   "outputs": [],
   "source": [
    "merged_data['Party'] = np.where(merged_data['Democratic'] > merged_data['Republican'], 1, 0)"
   ]
  },
  {
   "cell_type": "code",
   "execution_count": 11,
   "metadata": {
    "pycharm": {
     "is_executing": false
    }
   },
   "outputs": [
    {
     "data": {
      "text/plain": [
       "Ttest_indResult(statistic=-8.001207114045041, pvalue=2.0965719353509958e-14)"
      ]
     },
     "execution_count": 11,
     "metadata": {},
     "output_type": "execute_result"
    }
   ],
   "source": [
    "merged_data.groupby('Party')['Total_Population']\n",
    "\n",
    "republican = merged_data[merged_data['Party'] == 0]\n",
    "democrat = merged_data[merged_data['Party'] == 1]\n",
    "\n",
    "republican['Total_Population']\n",
    "stats.ttest_ind(republican['Total_Population'], democrat['Total_Population'], axis=0, equal_var=False)\n",
    "\n",
    "#It seems that the average population of Democratic counties is "
   ]
  },
  {
   "cell_type": "code",
   "execution_count": 12,
   "metadata": {
    "pycharm": {
     "is_executing": false
    }
   },
   "outputs": [
    {
     "data": {
      "text/html": [
       "<div>\n",
       "<style scoped>\n",
       "    .dataframe tbody tr th:only-of-type {\n",
       "        vertical-align: middle;\n",
       "    }\n",
       "\n",
       "    .dataframe tbody tr th {\n",
       "        vertical-align: top;\n",
       "    }\n",
       "\n",
       "    .dataframe thead th {\n",
       "        text-align: right;\n",
       "    }\n",
       "</style>\n",
       "<table border=\"1\" class=\"dataframe\">\n",
       "  <thead>\n",
       "    <tr style=\"text-align: right;\">\n",
       "      <th></th>\n",
       "      <th>Year</th>\n",
       "      <th>State</th>\n",
       "      <th>County</th>\n",
       "      <th>Office</th>\n",
       "      <th>Democratic</th>\n",
       "      <th>Republican</th>\n",
       "      <th>FIPS</th>\n",
       "      <th>Total_Population</th>\n",
       "      <th>Percent_White_not_Hispanic_or_Latino</th>\n",
       "      <th>Percent_Black_not_Hispanic_or_Latino</th>\n",
       "      <th>...</th>\n",
       "      <th>Percent_Foreign_Born</th>\n",
       "      <th>Percent_Female</th>\n",
       "      <th>Percent_Age_29_and_Under</th>\n",
       "      <th>Percent_Age_65_and_Older</th>\n",
       "      <th>Median_Household_Income</th>\n",
       "      <th>Percent_Unemployed</th>\n",
       "      <th>Percent_Less_than_High_School_Degree</th>\n",
       "      <th>Percent_Less_than_Bachelor's_Degree</th>\n",
       "      <th>Percent_Rural</th>\n",
       "      <th>Party</th>\n",
       "    </tr>\n",
       "  </thead>\n",
       "  <tbody>\n",
       "    <tr>\n",
       "      <td>0</td>\n",
       "      <td>2018</td>\n",
       "      <td>AZ</td>\n",
       "      <td>apache county</td>\n",
       "      <td>US Senator</td>\n",
       "      <td>16298.0</td>\n",
       "      <td>7810.0</td>\n",
       "      <td>4001</td>\n",
       "      <td>72346</td>\n",
       "      <td>18.571863</td>\n",
       "      <td>0.486551</td>\n",
       "      <td>...</td>\n",
       "      <td>1.719515</td>\n",
       "      <td>50.598513</td>\n",
       "      <td>45.854643</td>\n",
       "      <td>13.322091</td>\n",
       "      <td>32460</td>\n",
       "      <td>15.807433</td>\n",
       "      <td>21.758252</td>\n",
       "      <td>88.941063</td>\n",
       "      <td>74.061076</td>\n",
       "      <td>1</td>\n",
       "    </tr>\n",
       "    <tr>\n",
       "      <td>1</td>\n",
       "      <td>2018</td>\n",
       "      <td>AZ</td>\n",
       "      <td>cochise county</td>\n",
       "      <td>US Senator</td>\n",
       "      <td>17383.0</td>\n",
       "      <td>26929.0</td>\n",
       "      <td>4003</td>\n",
       "      <td>128177</td>\n",
       "      <td>56.299492</td>\n",
       "      <td>3.714395</td>\n",
       "      <td>...</td>\n",
       "      <td>11.458374</td>\n",
       "      <td>49.069646</td>\n",
       "      <td>37.902276</td>\n",
       "      <td>19.756275</td>\n",
       "      <td>45383</td>\n",
       "      <td>8.567108</td>\n",
       "      <td>13.409171</td>\n",
       "      <td>76.837055</td>\n",
       "      <td>36.301067</td>\n",
       "      <td>0</td>\n",
       "    </tr>\n",
       "    <tr>\n",
       "      <td>2</td>\n",
       "      <td>2018</td>\n",
       "      <td>AZ</td>\n",
       "      <td>coconino county</td>\n",
       "      <td>US Senator</td>\n",
       "      <td>34240.0</td>\n",
       "      <td>19249.0</td>\n",
       "      <td>4005</td>\n",
       "      <td>138064</td>\n",
       "      <td>54.619597</td>\n",
       "      <td>1.342855</td>\n",
       "      <td>...</td>\n",
       "      <td>4.825298</td>\n",
       "      <td>50.581614</td>\n",
       "      <td>48.946141</td>\n",
       "      <td>10.873943</td>\n",
       "      <td>51106</td>\n",
       "      <td>8.238305</td>\n",
       "      <td>11.085381</td>\n",
       "      <td>65.791439</td>\n",
       "      <td>31.466066</td>\n",
       "      <td>1</td>\n",
       "    </tr>\n",
       "    <tr>\n",
       "      <td>3</td>\n",
       "      <td>2018</td>\n",
       "      <td>AZ</td>\n",
       "      <td>gila county</td>\n",
       "      <td>US Senator</td>\n",
       "      <td>7643.0</td>\n",
       "      <td>12180.0</td>\n",
       "      <td>4007</td>\n",
       "      <td>53179</td>\n",
       "      <td>63.222325</td>\n",
       "      <td>0.552850</td>\n",
       "      <td>...</td>\n",
       "      <td>4.249798</td>\n",
       "      <td>50.296170</td>\n",
       "      <td>32.238290</td>\n",
       "      <td>26.397638</td>\n",
       "      <td>40593</td>\n",
       "      <td>12.129932</td>\n",
       "      <td>15.729958</td>\n",
       "      <td>82.262624</td>\n",
       "      <td>41.062000</td>\n",
       "      <td>0</td>\n",
       "    </tr>\n",
       "    <tr>\n",
       "      <td>4</td>\n",
       "      <td>2018</td>\n",
       "      <td>AZ</td>\n",
       "      <td>graham county</td>\n",
       "      <td>US Senator</td>\n",
       "      <td>3368.0</td>\n",
       "      <td>6870.0</td>\n",
       "      <td>4009</td>\n",
       "      <td>37529</td>\n",
       "      <td>51.461536</td>\n",
       "      <td>1.811932</td>\n",
       "      <td>...</td>\n",
       "      <td>4.385942</td>\n",
       "      <td>46.313518</td>\n",
       "      <td>46.393456</td>\n",
       "      <td>12.315809</td>\n",
       "      <td>47422</td>\n",
       "      <td>14.424104</td>\n",
       "      <td>14.580797</td>\n",
       "      <td>86.675944</td>\n",
       "      <td>46.437399</td>\n",
       "      <td>0</td>\n",
       "    </tr>\n",
       "  </tbody>\n",
       "</table>\n",
       "<p>5 rows × 21 columns</p>\n",
       "</div>"
      ],
      "text/plain": [
       "   Year State           County      Office  Democratic  Republican  FIPS  \\\n",
       "0  2018    AZ    apache county  US Senator     16298.0      7810.0  4001   \n",
       "1  2018    AZ   cochise county  US Senator     17383.0     26929.0  4003   \n",
       "2  2018    AZ  coconino county  US Senator     34240.0     19249.0  4005   \n",
       "3  2018    AZ      gila county  US Senator      7643.0     12180.0  4007   \n",
       "4  2018    AZ    graham county  US Senator      3368.0      6870.0  4009   \n",
       "\n",
       "   Total_Population  Percent_White_not_Hispanic_or_Latino  \\\n",
       "0             72346                             18.571863   \n",
       "1            128177                             56.299492   \n",
       "2            138064                             54.619597   \n",
       "3             53179                             63.222325   \n",
       "4             37529                             51.461536   \n",
       "\n",
       "   Percent_Black_not_Hispanic_or_Latino  ...  Percent_Foreign_Born  \\\n",
       "0                              0.486551  ...              1.719515   \n",
       "1                              3.714395  ...             11.458374   \n",
       "2                              1.342855  ...              4.825298   \n",
       "3                              0.552850  ...              4.249798   \n",
       "4                              1.811932  ...              4.385942   \n",
       "\n",
       "   Percent_Female  Percent_Age_29_and_Under  Percent_Age_65_and_Older  \\\n",
       "0       50.598513                 45.854643                 13.322091   \n",
       "1       49.069646                 37.902276                 19.756275   \n",
       "2       50.581614                 48.946141                 10.873943   \n",
       "3       50.296170                 32.238290                 26.397638   \n",
       "4       46.313518                 46.393456                 12.315809   \n",
       "\n",
       "   Median_Household_Income  Percent_Unemployed  \\\n",
       "0                    32460           15.807433   \n",
       "1                    45383            8.567108   \n",
       "2                    51106            8.238305   \n",
       "3                    40593           12.129932   \n",
       "4                    47422           14.424104   \n",
       "\n",
       "   Percent_Less_than_High_School_Degree  Percent_Less_than_Bachelor's_Degree  \\\n",
       "0                             21.758252                            88.941063   \n",
       "1                             13.409171                            76.837055   \n",
       "2                             11.085381                            65.791439   \n",
       "3                             15.729958                            82.262624   \n",
       "4                             14.580797                            86.675944   \n",
       "\n",
       "   Percent_Rural  Party  \n",
       "0      74.061076      1  \n",
       "1      36.301067      0  \n",
       "2      31.466066      1  \n",
       "3      41.062000      0  \n",
       "4      46.437399      0  \n",
       "\n",
       "[5 rows x 21 columns]"
      ]
     },
     "execution_count": 12,
     "metadata": {},
     "output_type": "execute_result"
    }
   ],
   "source": [
    "merged_data.head()"
   ]
  },
  {
   "cell_type": "markdown",
   "metadata": {},
   "source": [
    "# Question 7"
   ]
  },
  {
   "cell_type": "markdown",
   "metadata": {},
   "source": [
    "Compute mean median household income for Democratic counties and Republican counties"
   ]
  },
  {
   "cell_type": "code",
   "execution_count": 13,
   "metadata": {},
   "outputs": [
    {
     "name": "stdout",
     "output_type": "stream",
     "text": [
      "The mean median household income for Democratic counties:\n",
      "53798.732307692306\n",
      "The mean median household income for Republican counties:\n",
      "48724.15085714286\n"
     ]
    }
   ],
   "source": [
    "# median household income for Democratic counties\n",
    "democratic_median_household_income = merged_data[merged_data['Party'] == 1]['Median_Household_Income']\n",
    "# median household income for Republican counties\n",
    "republican_median_household_income = merged_data[merged_data['Party'] == 0]['Median_Household_Income']\n",
    "# mean median household income for Democratic counties\n",
    "democratic_mean = democratic_median_household_income.mean()\n",
    "print('The mean median household income for Democratic counties:')\n",
    "print(democratic_mean)\n",
    "# mean median household income for Republican counties\n",
    "republican_mean = republican_median_household_income.mean()\n",
    "print('The mean median household income for Republican counties:')\n",
    "print(republican_mean)"
   ]
  },
  {
   "cell_type": "markdown",
   "metadata": {},
   "source": [
    "The mean median household income for Democratic counties is higher"
   ]
  },
  {
   "cell_type": "markdown",
   "metadata": {},
   "source": [
    "Let mu1 be the mean median household income for Democartic counties and mu2 the the mean median household income for Republican counties.\n",
    "\n",
    "H0: mu1 = mu2  \n",
    "Ha: mu1 > mu2\n",
    "\n",
    "Perform an unpaired t-test:"
   ]
  },
  {
   "cell_type": "code",
   "execution_count": 45,
   "metadata": {},
   "outputs": [
    {
     "name": "stdout",
     "output_type": "stream",
     "text": [
      "5.507012409466501\n",
      "3.0866199456151866e-08\n"
     ]
    }
   ],
   "source": [
    "# Compute p-value using scipy.stats.ttest_ind\n",
    "[statistic, pvalue] = stats.ttest_ind(democratic_median_household_income, republican_median_household_income, equal_var = False)\n",
    "print(statistic)\n",
    "print(pvalue/2)"
   ]
  },
  {
   "cell_type": "markdown",
   "metadata": {},
   "source": [
    "Since pvalue/2 < 0.05, reject null hypothesis, i.e., the difference is statistically significant at the alpha = 0.05 significance level."
   ]
  },
  {
   "cell_type": "markdown",
   "metadata": {
    "pycharm": {
     "is_executing": false
    }
   },
   "source": [
    "# Question 8"
   ]
  },
  {
   "cell_type": "markdown",
   "metadata": {},
   "source": [
    "## Descriptive statistics for age"
   ]
  },
  {
   "cell_type": "markdown",
   "metadata": {},
   "source": [
    "### 'Percent_Age_29_and_Under'"
   ]
  },
  {
   "cell_type": "code",
   "execution_count": 46,
   "metadata": {
    "pycharm": {
     "is_executing": false
    }
   },
   "outputs": [
    {
     "data": {
      "text/html": [
       "<div>\n",
       "<style scoped>\n",
       "    .dataframe tbody tr th:only-of-type {\n",
       "        vertical-align: middle;\n",
       "    }\n",
       "\n",
       "    .dataframe tbody tr th {\n",
       "        vertical-align: top;\n",
       "    }\n",
       "\n",
       "    .dataframe thead th {\n",
       "        text-align: right;\n",
       "    }\n",
       "</style>\n",
       "<table border=\"1\" class=\"dataframe\">\n",
       "  <thead>\n",
       "    <tr style=\"text-align: right;\">\n",
       "      <th></th>\n",
       "      <th>count</th>\n",
       "      <th>mean</th>\n",
       "      <th>std</th>\n",
       "      <th>min</th>\n",
       "      <th>25%</th>\n",
       "      <th>50%</th>\n",
       "      <th>75%</th>\n",
       "      <th>max</th>\n",
       "    </tr>\n",
       "    <tr>\n",
       "      <th>Party</th>\n",
       "      <th></th>\n",
       "      <th></th>\n",
       "      <th></th>\n",
       "      <th></th>\n",
       "      <th></th>\n",
       "      <th></th>\n",
       "      <th></th>\n",
       "      <th></th>\n",
       "    </tr>\n",
       "  </thead>\n",
       "  <tbody>\n",
       "    <tr>\n",
       "      <th>0</th>\n",
       "      <td>875.0</td>\n",
       "      <td>36.020984</td>\n",
       "      <td>5.179824</td>\n",
       "      <td>11.842105</td>\n",
       "      <td>33.003249</td>\n",
       "      <td>35.864651</td>\n",
       "      <td>38.548722</td>\n",
       "      <td>58.749116</td>\n",
       "    </tr>\n",
       "    <tr>\n",
       "      <th>1</th>\n",
       "      <td>325.0</td>\n",
       "      <td>38.726959</td>\n",
       "      <td>6.252786</td>\n",
       "      <td>23.156452</td>\n",
       "      <td>34.488444</td>\n",
       "      <td>38.074151</td>\n",
       "      <td>42.161162</td>\n",
       "      <td>67.367823</td>\n",
       "    </tr>\n",
       "  </tbody>\n",
       "</table>\n",
       "</div>"
      ],
      "text/plain": [
       "       count       mean       std        min        25%        50%        75%  \\\n",
       "Party                                                                           \n",
       "0      875.0  36.020984  5.179824  11.842105  33.003249  35.864651  38.548722   \n",
       "1      325.0  38.726959  6.252786  23.156452  34.488444  38.074151  42.161162   \n",
       "\n",
       "             max  \n",
       "Party             \n",
       "0      58.749116  \n",
       "1      67.367823  "
      ]
     },
     "execution_count": 46,
     "metadata": {},
     "output_type": "execute_result"
    }
   ],
   "source": [
    "merged_data.groupby(['Party'])['Percent_Age_29_and_Under'].describe()"
   ]
  },
  {
   "cell_type": "code",
   "execution_count": 47,
   "metadata": {
    "pycharm": {
     "is_executing": false
    }
   },
   "outputs": [
    {
     "data": {
      "text/plain": [
       "<matplotlib.axes._subplots.AxesSubplot at 0x23f0f0cc9e8>"
      ]
     },
     "execution_count": 47,
     "metadata": {},
     "output_type": "execute_result"
    },
    {
     "data": {
      "image/png": "[encoded data removed]",
      "text/plain": [
       "<Figure size 432x288 with 1 Axes>"
      ]
     },
     "metadata": {
      "needs_background": "light"
     },
     "output_type": "display_data"
    }
   ],
   "source": [
    "sns.boxplot(x='Party', y='Percent_Age_29_and_Under', hue='Party', data=merged_data)"
   ]
  },
  {
   "cell_type": "markdown",
   "metadata": {},
   "source": [
    "**Conclusion**: We observe that the median 'Percent_Age_29_and_Under' is roughly the same for Democratic counties and Republican counties."
   ]
  },
  {
   "cell_type": "markdown",
   "metadata": {},
   "source": [
    "### 'Percent_Age_65_and_Older'"
   ]
  },
  {
   "cell_type": "code",
   "execution_count": 48,
   "metadata": {
    "pycharm": {
     "is_executing": false
    }
   },
   "outputs": [
    {
     "data": {
      "text/html": [
       "<div>\n",
       "<style scoped>\n",
       "    .dataframe tbody tr th:only-of-type {\n",
       "        vertical-align: middle;\n",
       "    }\n",
       "\n",
       "    .dataframe tbody tr th {\n",
       "        vertical-align: top;\n",
       "    }\n",
       "\n",
       "    .dataframe thead th {\n",
       "        text-align: right;\n",
       "    }\n",
       "</style>\n",
       "<table border=\"1\" class=\"dataframe\">\n",
       "  <thead>\n",
       "    <tr style=\"text-align: right;\">\n",
       "      <th></th>\n",
       "      <th>count</th>\n",
       "      <th>mean</th>\n",
       "      <th>std</th>\n",
       "      <th>min</th>\n",
       "      <th>25%</th>\n",
       "      <th>50%</th>\n",
       "      <th>75%</th>\n",
       "      <th>max</th>\n",
       "    </tr>\n",
       "    <tr>\n",
       "      <th>Party</th>\n",
       "      <th></th>\n",
       "      <th></th>\n",
       "      <th></th>\n",
       "      <th></th>\n",
       "      <th></th>\n",
       "      <th></th>\n",
       "      <th></th>\n",
       "      <th></th>\n",
       "    </tr>\n",
       "  </thead>\n",
       "  <tbody>\n",
       "    <tr>\n",
       "      <th>0</th>\n",
       "      <td>875.0</td>\n",
       "      <td>18.814997</td>\n",
       "      <td>4.733641</td>\n",
       "      <td>6.954387</td>\n",
       "      <td>15.781389</td>\n",
       "      <td>18.377039</td>\n",
       "      <td>21.109296</td>\n",
       "      <td>37.622759</td>\n",
       "    </tr>\n",
       "    <tr>\n",
       "      <th>1</th>\n",
       "      <td>325.0</td>\n",
       "      <td>16.194826</td>\n",
       "      <td>4.282422</td>\n",
       "      <td>6.653188</td>\n",
       "      <td>13.106233</td>\n",
       "      <td>15.698087</td>\n",
       "      <td>18.806426</td>\n",
       "      <td>31.642106</td>\n",
       "    </tr>\n",
       "  </tbody>\n",
       "</table>\n",
       "</div>"
      ],
      "text/plain": [
       "       count       mean       std       min        25%        50%        75%  \\\n",
       "Party                                                                          \n",
       "0      875.0  18.814997  4.733641  6.954387  15.781389  18.377039  21.109296   \n",
       "1      325.0  16.194826  4.282422  6.653188  13.106233  15.698087  18.806426   \n",
       "\n",
       "             max  \n",
       "Party             \n",
       "0      37.622759  \n",
       "1      31.642106  "
      ]
     },
     "execution_count": 48,
     "metadata": {},
     "output_type": "execute_result"
    }
   ],
   "source": [
    "merged_data.groupby(['Party'])['Percent_Age_65_and_Older'].describe()"
   ]
  },
  {
   "cell_type": "code",
   "execution_count": 49,
   "metadata": {
    "pycharm": {
     "is_executing": false
    },
    "scrolled": true
   },
   "outputs": [
    {
     "data": {
      "text/plain": [
       "<matplotlib.axes._subplots.AxesSubplot at 0x23f0f163b38>"
      ]
     },
     "execution_count": 49,
     "metadata": {},
     "output_type": "execute_result"
    },
    {
     "data": {
      "image/png": "[encoded data removed]",
      "text/plain": [
       "<Figure size 432x288 with 1 Axes>"
      ]
     },
     "metadata": {
      "needs_background": "light"
     },
     "output_type": "display_data"
    }
   ],
   "source": [
    "sns.boxplot(x='Party', y='Percent_Age_65_and_Older', hue='Party', data=merged_data)"
   ]
  },
  {
   "cell_type": "markdown",
   "metadata": {},
   "source": [
    "**Conclusion**: We observe that the median 'Percent_Age_65_and_Older' is higher for Republican counties."
   ]
  },
  {
   "cell_type": "markdown",
   "metadata": {},
   "source": [
    "## Descriptive statistics for gender"
   ]
  },
  {
   "cell_type": "markdown",
   "metadata": {},
   "source": [
    "### 'Percent_Female'"
   ]
  },
  {
   "cell_type": "code",
   "execution_count": 50,
   "metadata": {
    "pycharm": {
     "is_executing": false
    }
   },
   "outputs": [
    {
     "data": {
      "text/html": [
       "<div>\n",
       "<style scoped>\n",
       "    .dataframe tbody tr th:only-of-type {\n",
       "        vertical-align: middle;\n",
       "    }\n",
       "\n",
       "    .dataframe tbody tr th {\n",
       "        vertical-align: top;\n",
       "    }\n",
       "\n",
       "    .dataframe thead th {\n",
       "        text-align: right;\n",
       "    }\n",
       "</style>\n",
       "<table border=\"1\" class=\"dataframe\">\n",
       "  <thead>\n",
       "    <tr style=\"text-align: right;\">\n",
       "      <th></th>\n",
       "      <th>count</th>\n",
       "      <th>mean</th>\n",
       "      <th>std</th>\n",
       "      <th>min</th>\n",
       "      <th>25%</th>\n",
       "      <th>50%</th>\n",
       "      <th>75%</th>\n",
       "      <th>max</th>\n",
       "    </tr>\n",
       "    <tr>\n",
       "      <th>Party</th>\n",
       "      <th></th>\n",
       "      <th></th>\n",
       "      <th></th>\n",
       "      <th></th>\n",
       "      <th></th>\n",
       "      <th></th>\n",
       "      <th></th>\n",
       "      <th></th>\n",
       "    </tr>\n",
       "  </thead>\n",
       "  <tbody>\n",
       "    <tr>\n",
       "      <th>0</th>\n",
       "      <td>875.0</td>\n",
       "      <td>49.617156</td>\n",
       "      <td>2.447883</td>\n",
       "      <td>21.513413</td>\n",
       "      <td>49.207916</td>\n",
       "      <td>50.174456</td>\n",
       "      <td>50.827181</td>\n",
       "      <td>55.885023</td>\n",
       "    </tr>\n",
       "    <tr>\n",
       "      <th>1</th>\n",
       "      <td>325.0</td>\n",
       "      <td>50.385433</td>\n",
       "      <td>2.149359</td>\n",
       "      <td>34.245291</td>\n",
       "      <td>49.854280</td>\n",
       "      <td>50.653830</td>\n",
       "      <td>51.492075</td>\n",
       "      <td>56.418468</td>\n",
       "    </tr>\n",
       "  </tbody>\n",
       "</table>\n",
       "</div>"
      ],
      "text/plain": [
       "       count       mean       std        min        25%        50%        75%  \\\n",
       "Party                                                                           \n",
       "0      875.0  49.617156  2.447883  21.513413  49.207916  50.174456  50.827181   \n",
       "1      325.0  50.385433  2.149359  34.245291  49.854280  50.653830  51.492075   \n",
       "\n",
       "             max  \n",
       "Party             \n",
       "0      55.885023  \n",
       "1      56.418468  "
      ]
     },
     "execution_count": 50,
     "metadata": {},
     "output_type": "execute_result"
    }
   ],
   "source": [
    "merged_data.groupby(['Party'])['Percent_Female'].describe()"
   ]
  },
  {
   "cell_type": "code",
   "execution_count": 51,
   "metadata": {
    "pycharm": {
     "is_executing": false
    }
   },
   "outputs": [
    {
     "data": {
      "text/plain": [
       "<matplotlib.axes._subplots.AxesSubplot at 0x23f0f1e21d0>"
      ]
     },
     "execution_count": 51,
     "metadata": {},
     "output_type": "execute_result"
    },
    {
     "data": {
      "image/png": "[encoded data removed]",
      "text/plain": [
       "<Figure size 432x288 with 1 Axes>"
      ]
     },
     "metadata": {
      "needs_background": "light"
     },
     "output_type": "display_data"
    }
   ],
   "source": [
    "sns.boxplot(x='Party', y='Percent_Female', hue='Party', data=merged_data)"
   ]
  },
  {
   "cell_type": "markdown",
   "metadata": {},
   "source": [
    "**Conclusion**: We observe that the 'Percent_Female' is almost the same for Democratic counties and Republican counties."
   ]
  },
  {
   "cell_type": "markdown",
   "metadata": {},
   "source": [
    "## Descriptive statistics for race and ethnicity"
   ]
  },
  {
   "cell_type": "markdown",
   "metadata": {},
   "source": [
    "### 'Percent_White_not_Hispanic_or_Latino'"
   ]
  },
  {
   "cell_type": "code",
   "execution_count": 52,
   "metadata": {
    "pycharm": {
     "is_executing": false
    }
   },
   "outputs": [
    {
     "data": {
      "text/html": [
       "<div>\n",
       "<style scoped>\n",
       "    .dataframe tbody tr th:only-of-type {\n",
       "        vertical-align: middle;\n",
       "    }\n",
       "\n",
       "    .dataframe tbody tr th {\n",
       "        vertical-align: top;\n",
       "    }\n",
       "\n",
       "    .dataframe thead th {\n",
       "        text-align: right;\n",
       "    }\n",
       "</style>\n",
       "<table border=\"1\" class=\"dataframe\">\n",
       "  <thead>\n",
       "    <tr style=\"text-align: right;\">\n",
       "      <th></th>\n",
       "      <th>count</th>\n",
       "      <th>mean</th>\n",
       "      <th>std</th>\n",
       "      <th>min</th>\n",
       "      <th>25%</th>\n",
       "      <th>50%</th>\n",
       "      <th>75%</th>\n",
       "      <th>max</th>\n",
       "    </tr>\n",
       "    <tr>\n",
       "      <th>Party</th>\n",
       "      <th></th>\n",
       "      <th></th>\n",
       "      <th></th>\n",
       "      <th></th>\n",
       "      <th></th>\n",
       "      <th></th>\n",
       "      <th></th>\n",
       "      <th></th>\n",
       "    </tr>\n",
       "  </thead>\n",
       "  <tbody>\n",
       "    <tr>\n",
       "      <th>0</th>\n",
       "      <td>875.0</td>\n",
       "      <td>82.597026</td>\n",
       "      <td>16.134097</td>\n",
       "      <td>18.758977</td>\n",
       "      <td>74.960538</td>\n",
       "      <td>89.418396</td>\n",
       "      <td>94.468872</td>\n",
       "      <td>99.627329</td>\n",
       "    </tr>\n",
       "    <tr>\n",
       "      <th>1</th>\n",
       "      <td>325.0</td>\n",
       "      <td>69.683766</td>\n",
       "      <td>24.981502</td>\n",
       "      <td>2.776702</td>\n",
       "      <td>53.271579</td>\n",
       "      <td>77.786090</td>\n",
       "      <td>90.300749</td>\n",
       "      <td>98.063495</td>\n",
       "    </tr>\n",
       "  </tbody>\n",
       "</table>\n",
       "</div>"
      ],
      "text/plain": [
       "       count       mean        std        min        25%        50%  \\\n",
       "Party                                                                 \n",
       "0      875.0  82.597026  16.134097  18.758977  74.960538  89.418396   \n",
       "1      325.0  69.683766  24.981502   2.776702  53.271579  77.786090   \n",
       "\n",
       "             75%        max  \n",
       "Party                        \n",
       "0      94.468872  99.627329  \n",
       "1      90.300749  98.063495  "
      ]
     },
     "execution_count": 52,
     "metadata": {},
     "output_type": "execute_result"
    }
   ],
   "source": [
    "merged_data.groupby(['Party'])['Percent_White_not_Hispanic_or_Latino'].describe()"
   ]
  },
  {
   "cell_type": "code",
   "execution_count": 53,
   "metadata": {
    "pycharm": {
     "is_executing": false
    }
   },
   "outputs": [
    {
     "data": {
      "text/plain": [
       "<matplotlib.axes._subplots.AxesSubplot at 0x23f0f22e0b8>"
      ]
     },
     "execution_count": 53,
     "metadata": {},
     "output_type": "execute_result"
    },
    {
     "data": {
      "image/png": "[encoded data removed]",
      "text/plain": [
       "<Figure size 432x288 with 1 Axes>"
      ]
     },
     "metadata": {
      "needs_background": "light"
     },
     "output_type": "display_data"
    }
   ],
   "source": [
    "sns.boxplot(x='Party', y='Percent_White_not_Hispanic_or_Latino', hue='Party', data=merged_data)"
   ]
  },
  {
   "cell_type": "markdown",
   "metadata": {},
   "source": [
    "**Conclusion**: We observe that the median 'Percent_White_not_Hispanic_or_Latino' is higer for Republican counties."
   ]
  },
  {
   "cell_type": "markdown",
   "metadata": {},
   "source": [
    "### 'Percent_Black_not_Hispanic_or_Latino'"
   ]
  },
  {
   "cell_type": "code",
   "execution_count": 54,
   "metadata": {
    "pycharm": {
     "is_executing": false
    }
   },
   "outputs": [
    {
     "data": {
      "text/html": [
       "<div>\n",
       "<style scoped>\n",
       "    .dataframe tbody tr th:only-of-type {\n",
       "        vertical-align: middle;\n",
       "    }\n",
       "\n",
       "    .dataframe tbody tr th {\n",
       "        vertical-align: top;\n",
       "    }\n",
       "\n",
       "    .dataframe thead th {\n",
       "        text-align: right;\n",
       "    }\n",
       "</style>\n",
       "<table border=\"1\" class=\"dataframe\">\n",
       "  <thead>\n",
       "    <tr style=\"text-align: right;\">\n",
       "      <th></th>\n",
       "      <th>count</th>\n",
       "      <th>mean</th>\n",
       "      <th>std</th>\n",
       "      <th>min</th>\n",
       "      <th>25%</th>\n",
       "      <th>50%</th>\n",
       "      <th>75%</th>\n",
       "      <th>max</th>\n",
       "    </tr>\n",
       "    <tr>\n",
       "      <th>Party</th>\n",
       "      <th></th>\n",
       "      <th></th>\n",
       "      <th></th>\n",
       "      <th></th>\n",
       "      <th></th>\n",
       "      <th></th>\n",
       "      <th></th>\n",
       "      <th></th>\n",
       "    </tr>\n",
       "  </thead>\n",
       "  <tbody>\n",
       "    <tr>\n",
       "      <th>0</th>\n",
       "      <td>875.0</td>\n",
       "      <td>4.182092</td>\n",
       "      <td>6.706383</td>\n",
       "      <td>0.0</td>\n",
       "      <td>0.460803</td>\n",
       "      <td>1.318775</td>\n",
       "      <td>4.750447</td>\n",
       "      <td>41.563041</td>\n",
       "    </tr>\n",
       "    <tr>\n",
       "      <th>1</th>\n",
       "      <td>325.0</td>\n",
       "      <td>9.242649</td>\n",
       "      <td>13.351340</td>\n",
       "      <td>0.0</td>\n",
       "      <td>0.839103</td>\n",
       "      <td>3.485992</td>\n",
       "      <td>11.058843</td>\n",
       "      <td>63.953279</td>\n",
       "    </tr>\n",
       "  </tbody>\n",
       "</table>\n",
       "</div>"
      ],
      "text/plain": [
       "       count      mean        std  min       25%       50%        75%  \\\n",
       "Party                                                                   \n",
       "0      875.0  4.182092   6.706383  0.0  0.460803  1.318775   4.750447   \n",
       "1      325.0  9.242649  13.351340  0.0  0.839103  3.485992  11.058843   \n",
       "\n",
       "             max  \n",
       "Party             \n",
       "0      41.563041  \n",
       "1      63.953279  "
      ]
     },
     "execution_count": 54,
     "metadata": {},
     "output_type": "execute_result"
    }
   ],
   "source": [
    "merged_data.groupby(['Party'])['Percent_Black_not_Hispanic_or_Latino'].describe()"
   ]
  },
  {
   "cell_type": "code",
   "execution_count": 55,
   "metadata": {
    "pycharm": {
     "is_executing": false
    }
   },
   "outputs": [
    {
     "data": {
      "text/plain": [
       "<matplotlib.axes._subplots.AxesSubplot at 0x23f0f2ae8d0>"
      ]
     },
     "execution_count": 55,
     "metadata": {},
     "output_type": "execute_result"
    },
    {
     "data": {
      "image/png": "[encoded data removed]",
      "text/plain": [
       "<Figure size 432x288 with 1 Axes>"
      ]
     },
     "metadata": {
      "needs_background": "light"
     },
     "output_type": "display_data"
    }
   ],
   "source": [
    "sns.boxplot(x='Party', y='Percent_Black_not_Hispanic_or_Latino', hue='Party', data=merged_data)"
   ]
  },
  {
   "cell_type": "markdown",
   "metadata": {},
   "source": [
    "**Conclusion**: We observe that the median 'Percent_Black_not_Hispanic_or_Latino' is higher for Democratic counties."
   ]
  },
  {
   "cell_type": "markdown",
   "metadata": {},
   "source": [
    "### 'Percent_Hispanic_or_Latino'"
   ]
  },
  {
   "cell_type": "code",
   "execution_count": 56,
   "metadata": {
    "pycharm": {
     "is_executing": false
    }
   },
   "outputs": [
    {
     "data": {
      "text/html": [
       "<div>\n",
       "<style scoped>\n",
       "    .dataframe tbody tr th:only-of-type {\n",
       "        vertical-align: middle;\n",
       "    }\n",
       "\n",
       "    .dataframe tbody tr th {\n",
       "        vertical-align: top;\n",
       "    }\n",
       "\n",
       "    .dataframe thead th {\n",
       "        text-align: right;\n",
       "    }\n",
       "</style>\n",
       "<table border=\"1\" class=\"dataframe\">\n",
       "  <thead>\n",
       "    <tr style=\"text-align: right;\">\n",
       "      <th></th>\n",
       "      <th>count</th>\n",
       "      <th>mean</th>\n",
       "      <th>std</th>\n",
       "      <th>min</th>\n",
       "      <th>25%</th>\n",
       "      <th>50%</th>\n",
       "      <th>75%</th>\n",
       "      <th>max</th>\n",
       "    </tr>\n",
       "    <tr>\n",
       "      <th>Party</th>\n",
       "      <th></th>\n",
       "      <th></th>\n",
       "      <th></th>\n",
       "      <th></th>\n",
       "      <th></th>\n",
       "      <th></th>\n",
       "      <th></th>\n",
       "      <th></th>\n",
       "    </tr>\n",
       "  </thead>\n",
       "  <tbody>\n",
       "    <tr>\n",
       "      <th>0</th>\n",
       "      <td>875.0</td>\n",
       "      <td>9.801825</td>\n",
       "      <td>14.144003</td>\n",
       "      <td>0.000000</td>\n",
       "      <td>1.704640</td>\n",
       "      <td>3.440794</td>\n",
       "      <td>10.785963</td>\n",
       "      <td>78.397012</td>\n",
       "    </tr>\n",
       "    <tr>\n",
       "      <th>1</th>\n",
       "      <td>325.0</td>\n",
       "      <td>12.587391</td>\n",
       "      <td>19.575030</td>\n",
       "      <td>0.193349</td>\n",
       "      <td>2.531017</td>\n",
       "      <td>5.039747</td>\n",
       "      <td>11.857116</td>\n",
       "      <td>95.479801</td>\n",
       "    </tr>\n",
       "  </tbody>\n",
       "</table>\n",
       "</div>"
      ],
      "text/plain": [
       "       count       mean        std       min       25%       50%        75%  \\\n",
       "Party                                                                         \n",
       "0      875.0   9.801825  14.144003  0.000000  1.704640  3.440794  10.785963   \n",
       "1      325.0  12.587391  19.575030  0.193349  2.531017  5.039747  11.857116   \n",
       "\n",
       "             max  \n",
       "Party             \n",
       "0      78.397012  \n",
       "1      95.479801  "
      ]
     },
     "execution_count": 56,
     "metadata": {},
     "output_type": "execute_result"
    }
   ],
   "source": [
    "merged_data.groupby(['Party'])['Percent_Hispanic_or_Latino'].describe()"
   ]
  },
  {
   "cell_type": "code",
   "execution_count": 57,
   "metadata": {
    "pycharm": {
     "is_executing": false
    }
   },
   "outputs": [
    {
     "data": {
      "text/plain": [
       "<matplotlib.axes._subplots.AxesSubplot at 0x23f0f3276d8>"
      ]
     },
     "execution_count": 57,
     "metadata": {},
     "output_type": "execute_result"
    },
    {
     "data": {
      "image/png": "[encoded data removed]",
      "text/plain": [
       "<Figure size 432x288 with 1 Axes>"
      ]
     },
     "metadata": {
      "needs_background": "light"
     },
     "output_type": "display_data"
    }
   ],
   "source": [
    "sns.boxplot(x='Party', y='Percent_Hispanic_or_Latino', hue='Party', data=merged_data)"
   ]
  },
  {
   "cell_type": "markdown",
   "metadata": {},
   "source": [
    "**Conclusion**: We observe that the 'Percent_Hispanic_or_Latino' is roughly the same for Democratic counties and Republican counties."
   ]
  },
  {
   "cell_type": "markdown",
   "metadata": {},
   "source": [
    "## Descriptive statistics for education"
   ]
  },
  {
   "cell_type": "markdown",
   "metadata": {},
   "source": [
    "### 'Percent_Less_than_High_School_Degree'"
   ]
  },
  {
   "cell_type": "code",
   "execution_count": 58,
   "metadata": {
    "pycharm": {
     "is_executing": false
    }
   },
   "outputs": [
    {
     "data": {
      "text/html": [
       "<div>\n",
       "<style scoped>\n",
       "    .dataframe tbody tr th:only-of-type {\n",
       "        vertical-align: middle;\n",
       "    }\n",
       "\n",
       "    .dataframe tbody tr th {\n",
       "        vertical-align: top;\n",
       "    }\n",
       "\n",
       "    .dataframe thead th {\n",
       "        text-align: right;\n",
       "    }\n",
       "</style>\n",
       "<table border=\"1\" class=\"dataframe\">\n",
       "  <thead>\n",
       "    <tr style=\"text-align: right;\">\n",
       "      <th></th>\n",
       "      <th>count</th>\n",
       "      <th>mean</th>\n",
       "      <th>std</th>\n",
       "      <th>min</th>\n",
       "      <th>25%</th>\n",
       "      <th>50%</th>\n",
       "      <th>75%</th>\n",
       "      <th>max</th>\n",
       "    </tr>\n",
       "    <tr>\n",
       "      <th>Party</th>\n",
       "      <th></th>\n",
       "      <th></th>\n",
       "      <th></th>\n",
       "      <th></th>\n",
       "      <th></th>\n",
       "      <th></th>\n",
       "      <th></th>\n",
       "      <th></th>\n",
       "    </tr>\n",
       "  </thead>\n",
       "  <tbody>\n",
       "    <tr>\n",
       "      <th>0</th>\n",
       "      <td>875.0</td>\n",
       "      <td>14.029195</td>\n",
       "      <td>6.319875</td>\n",
       "      <td>2.134454</td>\n",
       "      <td>9.666957</td>\n",
       "      <td>12.577108</td>\n",
       "      <td>17.489907</td>\n",
       "      <td>47.812773</td>\n",
       "    </tr>\n",
       "    <tr>\n",
       "      <th>1</th>\n",
       "      <td>325.0</td>\n",
       "      <td>11.883760</td>\n",
       "      <td>6.505613</td>\n",
       "      <td>3.215803</td>\n",
       "      <td>7.893714</td>\n",
       "      <td>10.370080</td>\n",
       "      <td>13.637059</td>\n",
       "      <td>49.673777</td>\n",
       "    </tr>\n",
       "  </tbody>\n",
       "</table>\n",
       "</div>"
      ],
      "text/plain": [
       "       count       mean       std       min       25%        50%        75%  \\\n",
       "Party                                                                         \n",
       "0      875.0  14.029195  6.319875  2.134454  9.666957  12.577108  17.489907   \n",
       "1      325.0  11.883760  6.505613  3.215803  7.893714  10.370080  13.637059   \n",
       "\n",
       "             max  \n",
       "Party             \n",
       "0      47.812773  \n",
       "1      49.673777  "
      ]
     },
     "execution_count": 58,
     "metadata": {},
     "output_type": "execute_result"
    }
   ],
   "source": [
    "merged_data.groupby(['Party'])['Percent_Less_than_High_School_Degree'].describe()"
   ]
  },
  {
   "cell_type": "code",
   "execution_count": 59,
   "metadata": {
    "pycharm": {
     "is_executing": false
    }
   },
   "outputs": [
    {
     "data": {
      "text/plain": [
       "<matplotlib.axes._subplots.AxesSubplot at 0x23f0f396860>"
      ]
     },
     "execution_count": 59,
     "metadata": {},
     "output_type": "execute_result"
    },
    {
     "data": {
      "image/png": "[encoded data removed]",
      "text/plain": [
       "<Figure size 432x288 with 1 Axes>"
      ]
     },
     "metadata": {
      "needs_background": "light"
     },
     "output_type": "display_data"
    }
   ],
   "source": [
    "sns.boxplot(x='Party', y='Percent_Less_than_High_School_Degree', hue='Party', data=merged_data)"
   ]
  },
  {
   "cell_type": "markdown",
   "metadata": {},
   "source": [
    "**Conclusion**: We observe that the median 'Percent_Less_than_High_School_Degree' is roughly the same for Democratic counties and Republican counties."
   ]
  },
  {
   "cell_type": "markdown",
   "metadata": {},
   "source": [
    "### 'Percent_Less_than_Bachelor's_Degree'"
   ]
  },
  {
   "cell_type": "code",
   "execution_count": 60,
   "metadata": {
    "pycharm": {
     "is_executing": false
    }
   },
   "outputs": [
    {
     "data": {
      "text/html": [
       "<div>\n",
       "<style scoped>\n",
       "    .dataframe tbody tr th:only-of-type {\n",
       "        vertical-align: middle;\n",
       "    }\n",
       "\n",
       "    .dataframe tbody tr th {\n",
       "        vertical-align: top;\n",
       "    }\n",
       "\n",
       "    .dataframe thead th {\n",
       "        text-align: right;\n",
       "    }\n",
       "</style>\n",
       "<table border=\"1\" class=\"dataframe\">\n",
       "  <thead>\n",
       "    <tr style=\"text-align: right;\">\n",
       "      <th></th>\n",
       "      <th>count</th>\n",
       "      <th>mean</th>\n",
       "      <th>std</th>\n",
       "      <th>min</th>\n",
       "      <th>25%</th>\n",
       "      <th>50%</th>\n",
       "      <th>75%</th>\n",
       "      <th>max</th>\n",
       "    </tr>\n",
       "    <tr>\n",
       "      <th>Party</th>\n",
       "      <th></th>\n",
       "      <th></th>\n",
       "      <th></th>\n",
       "      <th></th>\n",
       "      <th></th>\n",
       "      <th></th>\n",
       "      <th></th>\n",
       "      <th></th>\n",
       "    </tr>\n",
       "  </thead>\n",
       "  <tbody>\n",
       "    <tr>\n",
       "      <th>0</th>\n",
       "      <td>875.0</td>\n",
       "      <td>81.103128</td>\n",
       "      <td>6.842667</td>\n",
       "      <td>43.41947</td>\n",
       "      <td>78.108767</td>\n",
       "      <td>82.409455</td>\n",
       "      <td>85.561291</td>\n",
       "      <td>97.014925</td>\n",
       "    </tr>\n",
       "    <tr>\n",
       "      <th>1</th>\n",
       "      <td>325.0</td>\n",
       "      <td>71.968225</td>\n",
       "      <td>11.192404</td>\n",
       "      <td>26.33544</td>\n",
       "      <td>65.711800</td>\n",
       "      <td>72.736143</td>\n",
       "      <td>79.903653</td>\n",
       "      <td>94.849957</td>\n",
       "    </tr>\n",
       "  </tbody>\n",
       "</table>\n",
       "</div>"
      ],
      "text/plain": [
       "       count       mean        std       min        25%        50%        75%  \\\n",
       "Party                                                                           \n",
       "0      875.0  81.103128   6.842667  43.41947  78.108767  82.409455  85.561291   \n",
       "1      325.0  71.968225  11.192404  26.33544  65.711800  72.736143  79.903653   \n",
       "\n",
       "             max  \n",
       "Party             \n",
       "0      97.014925  \n",
       "1      94.849957  "
      ]
     },
     "execution_count": 60,
     "metadata": {},
     "output_type": "execute_result"
    }
   ],
   "source": [
    "merged_data.groupby(['Party'])['Percent_Less_than_Bachelor\\'s_Degree'].describe()"
   ]
  },
  {
   "cell_type": "code",
   "execution_count": 61,
   "metadata": {
    "pycharm": {
     "is_executing": false
    }
   },
   "outputs": [
    {
     "data": {
      "text/plain": [
       "<matplotlib.axes._subplots.AxesSubplot at 0x23f0f417400>"
      ]
     },
     "execution_count": 61,
     "metadata": {},
     "output_type": "execute_result"
    },
    {
     "data": {
      "image/png": "[encoded data removed]",
      "text/plain": [
       "<Figure size 432x288 with 1 Axes>"
      ]
     },
     "metadata": {
      "needs_background": "light"
     },
     "output_type": "display_data"
    }
   ],
   "source": [
    "sns.boxplot(x='Party', y='Percent_Less_than_Bachelor\\'s_Degree', hue='Party', data=merged_data)"
   ]
  },
  {
   "cell_type": "markdown",
   "metadata": {},
   "source": [
    "**Conclusion**: We observe that the median 'Percent_Less_than_Bachelor's_Degree' is higher for Republican counties."
   ]
  },
  {
   "cell_type": "markdown",
   "metadata": {},
   "source": [
    "# Question 9"
   ]
  },
  {
   "cell_type": "markdown",
   "metadata": {},
   "source": [
    "Features 'Percent_Age_65_and_Older', 'Percent_White_not_Hispanic_or_Latino', 'Percent_Black_not_Hispanic_or_Latino', 'Percent_Less_than_High_School_Degree' and 'Percent_Less_than_Bachelor's_Degree' seem to be more important to determine whether a county is labeled as Democratic or Republican."
   ]
  },
  {
   "cell_type": "markdown",
   "metadata": {},
   "source": [
    "# Question 10"
   ]
  },
  {
   "cell_type": "code",
   "execution_count": 62,
   "metadata": {
    "pycharm": {
     "is_executing": true
    },
    "scrolled": true
   },
   "outputs": [
    {
     "ename": "ModuleNotFoundError",
     "evalue": "No module named 'plotly'",
     "output_type": "error",
     "traceback": [
      "\u001b[1;31m---------------------------------------------------------------------------\u001b[0m",
      "\u001b[1;31mModuleNotFoundError\u001b[0m                       Traceback (most recent call last)",
      "\u001b[1;32m<ipython-input-62-8f02c9d6624e>\u001b[0m in \u001b[0;36m<module>\u001b[1;34m\u001b[0m\n\u001b[1;32m----> 1\u001b[1;33m \u001b[1;32mimport\u001b[0m \u001b[0mplotly\u001b[0m\u001b[1;33m.\u001b[0m\u001b[0mfigure_factory\u001b[0m \u001b[1;32mas\u001b[0m \u001b[0mff\u001b[0m\u001b[1;33m\u001b[0m\u001b[1;33m\u001b[0m\u001b[0m\n\u001b[0m\u001b[0;32m      2\u001b[0m \u001b[0mfig\u001b[0m \u001b[1;33m=\u001b[0m \u001b[0mff\u001b[0m\u001b[1;33m.\u001b[0m\u001b[0mcreate_choropleth\u001b[0m\u001b[1;33m(\u001b[0m\u001b[0mfips\u001b[0m\u001b[1;33m=\u001b[0m\u001b[0mmerged_data\u001b[0m\u001b[1;33m[\u001b[0m\u001b[1;34m'FIPS'\u001b[0m\u001b[1;33m]\u001b[0m\u001b[1;33m,\u001b[0m \u001b[0mvalues\u001b[0m\u001b[1;33m=\u001b[0m\u001b[0mmerged_data\u001b[0m\u001b[1;33m[\u001b[0m\u001b[1;34m'Party'\u001b[0m\u001b[1;33m]\u001b[0m\u001b[1;33m,\u001b[0m \u001b[0mcolorscale\u001b[0m\u001b[1;33m=\u001b[0m\u001b[1;33m[\u001b[0m\u001b[1;34m'#ff0000'\u001b[0m\u001b[1;33m,\u001b[0m \u001b[1;34m'#0000FF'\u001b[0m\u001b[1;33m]\u001b[0m\u001b[1;33m)\u001b[0m\u001b[1;33m\u001b[0m\u001b[1;33m\u001b[0m\u001b[0m\n\u001b[0;32m      3\u001b[0m \u001b[0mfig\u001b[0m\u001b[1;33m.\u001b[0m\u001b[0mlayout\u001b[0m\u001b[1;33m.\u001b[0m\u001b[0mtemplate\u001b[0m \u001b[1;33m=\u001b[0m \u001b[1;32mNone\u001b[0m\u001b[1;33m\u001b[0m\u001b[1;33m\u001b[0m\u001b[0m\n\u001b[0;32m      4\u001b[0m \u001b[0mfig\u001b[0m\u001b[1;33m.\u001b[0m\u001b[0mshow\u001b[0m\u001b[1;33m(\u001b[0m\u001b[1;33m)\u001b[0m\u001b[1;33m\u001b[0m\u001b[1;33m\u001b[0m\u001b[0m\n",
      "\u001b[1;31mModuleNotFoundError\u001b[0m: No module named 'plotly'"
     ]
    }
   ],
   "source": [
    "import plotly.figure_factory as ff\n",
    "fig = ff.create_choropleth(fips=merged_data['FIPS'], values=merged_data['Party'], colorscale=['#ff0000', '#0000FF'])\n",
    "fig.layout.template = None\n",
    "fig.show()"
   ]
  },
  {
   "cell_type": "code",
   "execution_count": null,
   "metadata": {},
   "outputs": [],
   "source": []
  },
  {
   "cell_type": "code",
   "execution_count": null,
   "metadata": {},
   "outputs": [],
   "source": []
  },
  {
   "cell_type": "code",
   "execution_count": null,
   "metadata": {},
   "outputs": [],
   "source": []
  },
  {
   "cell_type": "code",
   "execution_count": null,
   "metadata": {},
   "outputs": [],
   "source": []
  }
 ],
 "metadata": {
  "kernelspec": {
   "display_name": "Python 3",
   "language": "python",
   "name": "python3"
  },
  "language_info": {
   "codemirror_mode": {
    "name": "ipython",
    "version": 3
   },
   "file_extension": ".py",
   "mimetype": "text/x-python",
   "name": "python",
   "nbconvert_exporter": "python",
   "pygments_lexer": "ipython3",
   "version": "3.7.4"
  },
  "pycharm": {
   "stem_cell": {
    "cell_type": "raw",
    "metadata": {
     "collapsed": false
    },
    "source": []
   }
  }
 },
 "nbformat": 4,
 "nbformat_minor": 1
}
